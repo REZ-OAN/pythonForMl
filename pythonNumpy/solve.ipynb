{
 "cells": [
  {
   "cell_type": "code",
   "execution_count": 1,
   "metadata": {},
   "outputs": [
    {
     "name": "stdout",
     "output_type": "stream",
     "text": [
      "[1 3 4 5]\n",
      "1\n",
      "4\n"
     ]
    }
   ],
   "source": [
    "import numpy as np\n",
    "a = np.array([1,3,4,5])\n",
    "print(a)\n",
    "print(a[0])\n",
    "print(a[2])"
   ]
  },
  {
   "cell_type": "code",
   "execution_count": 2,
   "metadata": {},
   "outputs": [
    {
     "name": "stdout",
     "output_type": "stream",
     "text": [
      "28000\n",
      "8000\n"
     ]
    }
   ],
   "source": [
    "import time \n",
    "import sys\n",
    "\n",
    "l = range(1000)\n",
    "print(sys.getsizeof(5)*len(l))\n",
    "a = np.arange(1000)\n",
    "print(a.size*a.itemsize)"
   ]
  },
  {
   "cell_type": "code",
   "execution_count": 3,
   "metadata": {},
   "outputs": [
    {
     "name": "stdout",
     "output_type": "stream",
     "text": [
      "130.11550903320312 ms\n",
      "3.3838748931884766 ms\n"
     ]
    }
   ],
   "source": [
    "##checking required time\n",
    "size = 1000000\n",
    "l1 = range(size)\n",
    "l2 = range(size)\n",
    "a1 = np.arange(size)\n",
    "a2 = np.arange(size)\n",
    "start = time.time()\n",
    "res1 = [(x+y) for x,y in zip(l1,l2)]\n",
    "print((time.time()-start)*1000,\"ms\")\n",
    "start = time.time()\n",
    "res2 =  a1 + a2\n",
    "print((time.time()-start)*1000,\"ms\")"
   ]
  },
  {
   "cell_type": "code",
   "execution_count": 4,
   "metadata": {},
   "outputs": [
    {
     "name": "stdout",
     "output_type": "stream",
     "text": [
      "[4 6 6]\n",
      "[-2 -2  0]\n",
      "[3 8 9]\n",
      "[0.33333333 0.5        1.        ]\n"
     ]
    }
   ],
   "source": [
    "a1 = np.array([1,2,3])\n",
    "a2 = np.array([3,4,3])\n",
    "print(a1+a2)\n",
    "print(a1-a2)\n",
    "print(a1*a2)\n",
    "print(a1/a2)"
   ]
  },
  {
   "cell_type": "code",
   "execution_count": 5,
   "metadata": {},
   "outputs": [
    {
     "name": "stdout",
     "output_type": "stream",
     "text": [
      "2\n",
      "8\n",
      "int64\n",
      "float128\n",
      "[[1. 2.]\n",
      " [2. 3.]\n",
      " [4. 3.]]\n"
     ]
    }
   ],
   "source": [
    "a = np.array([[1,2],[2,3],[4,3]])\n",
    "## to know dimension\n",
    "print(a.ndim)\n",
    "## item size in bytes\n",
    "print(a.itemsize)\n",
    "## default data type\n",
    "print(a.dtype)\n",
    "## modify type with dtype\n",
    "a = np.array([[1,2],[2,3],[4,3]],dtype=np.float128)\n",
    "print(a.dtype)\n",
    "print(a)"
   ]
  },
  {
   "cell_type": "code",
   "execution_count": 6,
   "metadata": {},
   "outputs": [
    {
     "name": "stdout",
     "output_type": "stream",
     "text": [
      "complex128\n",
      "(3, 3)\n"
     ]
    }
   ],
   "source": [
    "a = np.array([[1,3,4],[1,3,43],[3,2,4]],dtype=complex)\n",
    "print(a.dtype)\n",
    "## print each dimension shape\n",
    "print(a.shape)"
   ]
  },
  {
   "cell_type": "code",
   "execution_count": 15,
   "metadata": {},
   "outputs": [
    {
     "name": "stdout",
     "output_type": "stream",
     "text": [
      "[[0. 0. 0. 0. 0. 0. 0. 0.]]\n",
      "(1, 8)\n",
      "[0. 0. 0. 0. 0. 0. 0. 0.]\n",
      "(8,)\n",
      "[1. 1. 1. 1. 1. 1. 1. 1.]\n",
      "[[1.]\n",
      " [1.]\n",
      " [1.]\n",
      " [1.]\n",
      " [1.]\n",
      " [1.]\n",
      " [1.]\n",
      " [1.]]\n",
      "[1 2 3 4 5]\n",
      "[ 1.   1.2  1.4  1.6  1.8  2.   2.2  2.4  2.6  2.8  3.   3.2  3.4  3.6\n",
      "  3.8  4.   4.2  4.4  4.6  4.8  5.   5.2  5.4  5.6  5.8  6.   6.2  6.4\n",
      "  6.6  6.8  7.   7.2  7.4  7.6  7.8  8.   8.2  8.4  8.6  8.8  9.   9.2\n",
      "  9.4  9.6  9.8 10.  10.2 10.4 10.6 10.8 11.  11.2 11.4 11.6 11.8 12.\n",
      " 12.2 12.4 12.6 12.8 13.  13.2 13.4 13.6 13.8 14.  14.2 14.4 14.6 14.8\n",
      " 15.  15.2 15.4 15.6 15.8 16.  16.2 16.4 16.6 16.8 17.  17.2 17.4 17.6\n",
      " 17.8 18.  18.2 18.4 18.6 18.8 19.  19.2 19.4 19.6 19.8 20. ]\n",
      "96\n",
      "[[ 1.   1.2  1.4  1.6  1.8  2.   2.2  2.4]\n",
      " [ 2.6  2.8  3.   3.2  3.4  3.6  3.8  4. ]\n",
      " [ 4.2  4.4  4.6  4.8  5.   5.2  5.4  5.6]\n",
      " [ 5.8  6.   6.2  6.4  6.6  6.8  7.   7.2]\n",
      " [ 7.4  7.6  7.8  8.   8.2  8.4  8.6  8.8]\n",
      " [ 9.   9.2  9.4  9.6  9.8 10.  10.2 10.4]\n",
      " [10.6 10.8 11.  11.2 11.4 11.6 11.8 12. ]\n",
      " [12.2 12.4 12.6 12.8 13.  13.2 13.4 13.6]\n",
      " [13.8 14.  14.2 14.4 14.6 14.8 15.  15.2]\n",
      " [15.4 15.6 15.8 16.  16.2 16.4 16.6 16.8]\n",
      " [17.  17.2 17.4 17.6 17.8 18.  18.2 18.4]\n",
      " [18.6 18.8 19.  19.2 19.4 19.6 19.8 20. ]]\n",
      "[ 1.   1.2  1.4  1.6  1.8  2.   2.2  2.4  2.6  2.8  3.   3.2  3.4  3.6\n",
      "  3.8  4.   4.2  4.4  4.6  4.8  5.   5.2  5.4  5.6  5.8  6.   6.2  6.4\n",
      "  6.6  6.8  7.   7.2  7.4  7.6  7.8  8.   8.2  8.4  8.6  8.8  9.   9.2\n",
      "  9.4  9.6  9.8 10.  10.2 10.4 10.6 10.8 11.  11.2 11.4 11.6 11.8 12.\n",
      " 12.2 12.4 12.6 12.8 13.  13.2 13.4 13.6 13.8 14.  14.2 14.4 14.6 14.8\n",
      " 15.  15.2 15.4 15.6 15.8 16.  16.2 16.4 16.6 16.8 17.  17.2 17.4 17.6\n",
      " 17.8 18.  18.2 18.4 18.6 18.8 19.  19.2 19.4 19.6 19.8 20. ]\n"
     ]
    }
   ],
   "source": [
    "a = np.zeros((1,8)) ## inside define the shape\n",
    "print(a)\n",
    "print(a.shape)\n",
    "a = np.zeros(8)\n",
    "print(a)\n",
    "print(a.shape)\n",
    "a = np.ones((8,))\n",
    "print(a)\n",
    "a = np.ones((8,1))\n",
    "print(a)\n",
    "a = np.arange(1,6)\n",
    "print(a)\n",
    "a = np.arange(1,20.2,.2)\n",
    "print(a)\n",
    "print(a.size)\n",
    "a = a.reshape(12,8)\n",
    "print(a)\n",
    "a = a.ravel() ## forces to be in one dim\n",
    "print(a)"
   ]
  },
  {
   "cell_type": "code",
   "execution_count": 16,
   "metadata": {},
   "outputs": [
    {
     "name": "stdout",
     "output_type": "stream",
     "text": [
      "1.0\n",
      "19.999999999999996\n",
      "[1.  1.2 1.4 1.6 1.8 2.  2.2 2.4 2.6 2.8 3.  3.2] column wise min\n",
      "[17.8 18.  18.2 18.4 18.6 18.8 19.  19.2 19.4 19.6 19.8 20. ] column wise max\n",
      "[ 1.   3.4  5.8  8.2 10.6 13.  15.4 17.8] row wise min\n",
      "[ 3.2  5.6  8.  10.4 12.8 15.2 17.6 20. ] column wise max\n",
      "1007.9999999999999\n",
      "[75.2 76.8 78.4 80.  81.6 83.2 84.8 86.4 88.  89.6 91.2 92.8] column wise sum\n",
      "[ 25.2  54.   82.8 111.6 140.4 169.2 198.  226.8] row wise sum\n"
     ]
    }
   ],
   "source": [
    "a = a.reshape(8,12)\n",
    "print(a.min())\n",
    "print(a.max())\n",
    "print(a.min(axis=0),'column wise min')\n",
    "print(a.max(axis=0),'column wise max')\n",
    "print(a.min(axis=1),'row wise min')\n",
    "print(a.max(axis=1),'column wise max')\n",
    "print(a.sum())\n",
    "print(a.sum(axis=0),'column wise sum')\n",
    "print(a.sum(axis=1),'row wise sum')"
   ]
  },
  {
   "cell_type": "code",
   "execution_count": 17,
   "metadata": {},
   "outputs": [
    {
     "name": "stdout",
     "output_type": "stream",
     "text": [
      "[1.         1.41421356 2.         2.82842712]\n",
      "[[ 3  7]\n",
      " [11 15]\n",
      " [19 23]]\n",
      "[[-1 -1]\n",
      " [-1 -1]\n",
      " [-1 -1]]\n",
      "[[  2  12]\n",
      " [ 30  56]\n",
      " [ 90 132]]\n",
      "[[ 26  34  42]\n",
      " [ 66  90 114]\n",
      " [106 146 186]]\n",
      "[[0.5        0.75      ]\n",
      " [0.83333333 0.875     ]\n",
      " [0.9        0.91666667]]\n"
     ]
    }
   ],
   "source": [
    "a= np.array([1,2,4,8])\n",
    "print(np.sqrt(a))\n",
    "a = np.arange(1,13,2)\n",
    "a = a.reshape(3,2)\n",
    "b = np.arange(2,14,2)\n",
    "b = b.reshape(3,2)\n",
    "print(a+b)\n",
    "print(a-b)\n",
    "print(a*b)\n",
    "b = b.reshape(2,3)\n",
    "print(a.dot(b)) ## matrix product\n",
    "b = b.reshape(3,2)\n",
    "print(a/b)"
   ]
  },
  {
   "cell_type": "code",
   "execution_count": 18,
   "metadata": {},
   "outputs": [
    {
     "name": "stdout",
     "output_type": "stream",
     "text": [
      "[[ 1.   1.4  1.8  2.2  2.6  3.   3.4  3.8]\n",
      " [ 4.2  4.6  5.   5.4  5.8  6.2  6.6  7. ]\n",
      " [ 7.4  7.8  8.2  8.6  9.   9.4  9.8 10.2]\n",
      " [10.6 11.  11.4 11.8 12.2 12.6 13.  13.4]\n",
      " [13.8 14.2 14.6 15.  15.4 15.8 16.2 16.6]\n",
      " [17.  17.4 17.8 18.2 18.6 19.  19.4 19.8]]\n",
      "4.999999999999999\n",
      "1.4\n",
      "[[1.  1.4 1.8]\n",
      " [4.2 4.6 5. ]]\n",
      "[[  1.8    3.08]\n",
      " [ 21.    24.84]\n",
      " [ 60.68  67.08]\n",
      " [120.84 129.8 ]\n",
      " [201.48 213.  ]\n",
      " [302.6  316.68]]\n"
     ]
    }
   ],
   "source": [
    "## slicing 1dim np array like slicing a list and also can use negative indexing\n",
    "a = np.arange(1,20.2,.4)\n",
    "a = a.reshape(6,8)\n",
    "print(a)\n",
    "print(a[1,2])\n",
    "print(a[0,1])\n",
    "print(a[0:2,0:3])\n",
    "print(a[:,0:2]*a[:,2:4])"
   ]
  },
  {
   "cell_type": "code",
   "execution_count": 19,
   "metadata": {},
   "outputs": [
    {
     "name": "stdout",
     "output_type": "stream",
     "text": [
      "1.0\n",
      "1.4\n",
      "1.7999999999999998\n",
      "2.1999999999999997\n",
      "2.5999999999999996\n",
      "2.9999999999999996\n",
      "3.3999999999999995\n",
      "3.7999999999999994\n",
      "4.199999999999999\n",
      "4.6\n",
      "4.999999999999999\n",
      "5.399999999999999\n",
      "5.799999999999999\n",
      "6.199999999999999\n",
      "6.599999999999999\n",
      "6.999999999999998\n",
      "7.399999999999999\n",
      "7.799999999999999\n",
      "8.2\n",
      "8.599999999999998\n",
      "8.999999999999998\n",
      "9.399999999999999\n",
      "9.799999999999997\n",
      "10.199999999999998\n",
      "10.599999999999998\n",
      "10.999999999999998\n",
      "11.399999999999999\n",
      "11.799999999999997\n",
      "12.199999999999998\n",
      "12.599999999999998\n",
      "12.999999999999996\n",
      "13.399999999999997\n",
      "13.799999999999997\n",
      "14.199999999999998\n",
      "14.599999999999998\n",
      "14.999999999999996\n",
      "15.399999999999997\n",
      "15.799999999999997\n",
      "16.199999999999996\n",
      "16.599999999999994\n",
      "16.999999999999996\n",
      "17.399999999999995\n",
      "17.799999999999997\n",
      "18.199999999999996\n",
      "18.599999999999994\n",
      "18.999999999999996\n",
      "19.399999999999995\n",
      "19.799999999999997\n"
     ]
    },
    {
     "data": {
      "text/plain": [
       "array([[ 1. ,  1.4,  1.8,  2.2,  2.6,  3. ,  3.4,  3.8],\n",
       "       [ 4.2,  4.6,  5. ,  5.4,  5.8,  6.2,  6.6,  7. ],\n",
       "       [ 7.4,  7.8,  8.2,  8.6,  9. ,  9.4,  9.8, 10.2],\n",
       "       [10.6, 11. , 11.4, 11.8, 12.2, 12.6, 13. , 13.4],\n",
       "       [13.8, 14.2, 14.6, 15. , 15.4, 15.8, 16.2, 16.6],\n",
       "       [17. , 17.4, 17.8, 18.2, 18.6, 19. , 19.4, 19.8]])"
      ]
     },
     "execution_count": 19,
     "metadata": {},
     "output_type": "execute_result"
    }
   ],
   "source": [
    "for c in a.flat :\n",
    "    print(c)\n",
    "a"
   ]
  },
  {
   "cell_type": "code",
   "execution_count": 20,
   "metadata": {},
   "outputs": [
    {
     "name": "stdout",
     "output_type": "stream",
     "text": [
      "[[0 1]\n",
      " [2 3]\n",
      " [4 5]]\n",
      "[[ 6  7]\n",
      " [ 8  9]\n",
      " [10 11]]\n",
      "[[ 0  1]\n",
      " [ 2  3]\n",
      " [ 4  5]\n",
      " [ 6  7]\n",
      " [ 8  9]\n",
      " [10 11]] vertical stack\n",
      "[[ 0  1  6  7]\n",
      " [ 2  3  8  9]\n",
      " [ 4  5 10 11]] horizontal stack\n"
     ]
    }
   ],
   "source": [
    "a = np.arange(6).reshape(3,2)\n",
    "b = np.arange(6,12).reshape(3,2)\n",
    "print(a)\n",
    "print(b)\n",
    "print(np.vstack((a,b)),'vertical stack') ## no of columns must be same\n",
    "print(np.hstack((a,b)),'horizontal stack') ## no of rows must be same"
   ]
  },
  {
   "cell_type": "code",
   "execution_count": 21,
   "metadata": {},
   "outputs": [
    {
     "name": "stdout",
     "output_type": "stream",
     "text": [
      "[[ 0  1  2  3  4  5  6  7  8  9 10 11 12 13 14]\n",
      " [15 16 17 18 19 20 21 22 23 24 25 26 27 28 29]]\n",
      "[[ 0  1  2  3  4]\n",
      " [15 16 17 18 19]]\n",
      "[[ 5  6  7  8  9]\n",
      " [20 21 22 23 24]]\n",
      "[[10 11 12 13 14]\n",
      " [25 26 27 28 29]]\n",
      "[[ 0  1  2  3  4  5  6  7  8  9 10 11 12 13 14]]\n",
      "[[15 16 17 18 19 20 21 22 23 24 25 26 27 28 29]]\n"
     ]
    }
   ],
   "source": [
    "a = np.arange(30).reshape(2,15)\n",
    "print(a)\n",
    "## horizontal spliting\n",
    "r = np.hsplit(a,3) ## column no er theke beshi houya jabe na\n",
    "print(r[0])\n",
    "print(r[1])\n",
    "print(r[2])\n",
    "r = np.vsplit(a,2) ## row no er theke beshi howya jabe na\n",
    "print(r[0])\n",
    "print(r[1])"
   ]
  },
  {
   "cell_type": "code",
   "execution_count": 22,
   "metadata": {},
   "outputs": [
    {
     "name": "stdout",
     "output_type": "stream",
     "text": [
      "[[False False False False]\n",
      " [False  True  True  True]\n",
      " [ True  True  True  True]]\n",
      "[ 5  6  7  8  9 10 11]\n",
      "[[ 0  1  2  3]\n",
      " [ 4 -1 -1 -1]\n",
      " [-1 -1 -1 -1]]\n"
     ]
    }
   ],
   "source": [
    "a = np.arange(12).reshape(3,4)\n",
    "b = a > 4\n",
    "print(b)\n",
    "print(a[b])\n",
    "a[b] = -1\n",
    "print(a)"
   ]
  },
  {
   "cell_type": "code",
   "execution_count": 23,
   "metadata": {},
   "outputs": [
    {
     "name": "stdout",
     "output_type": "stream",
     "text": [
      "[0 1 2 3]\n",
      "[4 5 6 7]\n",
      "[ 8  9 10 11]\n",
      "0 1 2 3 4 5 6 7 8 9 10 11 \n",
      "0\n",
      "1\n",
      "2\n",
      "3\n",
      "4\n",
      "5\n",
      "6\n",
      "7\n",
      "8\n",
      "9\n",
      "10\n",
      "11\n"
     ]
    }
   ],
   "source": [
    "a= np.arange(12).reshape(3,4)\n",
    "for row in a :\n",
    "    print(row)\n",
    "for element in a.flatten():\n",
    "    print(element,end=\" \")\n",
    "print()\n",
    "## use of nditer\n",
    "## order C  row wise\n",
    "## order F column wise\n",
    "for x in np.nditer(a,order='C'):\n",
    "    print(x) "
   ]
  },
  {
   "cell_type": "code",
   "execution_count": 28,
   "metadata": {},
   "outputs": [
    {
     "name": "stdout",
     "output_type": "stream",
     "text": [
      "[0 4 8]\n",
      "[1 5 9]\n",
      "[ 2  6 10]\n",
      "[ 3  7 11]\n"
     ]
    }
   ],
   "source": [
    "for x in np.nditer(a,order='F',flags=['external_loop']):\n",
    "    print(x)"
   ]
  },
  {
   "cell_type": "code",
   "execution_count": 29,
   "metadata": {},
   "outputs": [
    {
     "name": "stdout",
     "output_type": "stream",
     "text": [
      "[[  0   1   4   9]\n",
      " [ 16  25  36  49]\n",
      " [ 64  81 100 121]]\n"
     ]
    }
   ],
   "source": [
    "for x in np.nditer(a,op_flags=['readwrite']):\n",
    "    x[...]=x*x\n",
    "print(a) "
   ]
  },
  {
   "cell_type": "code",
   "execution_count": 30,
   "metadata": {},
   "outputs": [
    {
     "data": {
      "text/plain": [
       "array([[ 3],\n",
       "       [ 7],\n",
       "       [11]])"
      ]
     },
     "execution_count": 30,
     "metadata": {},
     "output_type": "execute_result"
    }
   ],
   "source": [
    "b = np.arange(3,15,4).reshape(3,1)\n",
    "b "
   ]
  },
  {
   "cell_type": "code",
   "execution_count": 31,
   "metadata": {},
   "outputs": [
    {
     "name": "stdout",
     "output_type": "stream",
     "text": [
      "3 0\n",
      "3 1\n",
      "3 4\n",
      "3 9\n",
      "7 16\n",
      "7 25\n",
      "7 36\n",
      "7 49\n",
      "11 64\n",
      "11 81\n",
      "11 100\n",
      "11 121\n"
     ]
    }
   ],
   "source": [
    "for x,y in np.nditer([b,a]):\n",
    "    print(x,y)"
   ]
  }
 ],
 "metadata": {
  "kernelspec": {
   "display_name": "Python 3",
   "language": "python",
   "name": "python3"
  },
  "language_info": {
   "codemirror_mode": {
    "name": "ipython",
    "version": 3
   },
   "file_extension": ".py",
   "mimetype": "text/x-python",
   "name": "python",
   "nbconvert_exporter": "python",
   "pygments_lexer": "ipython3",
   "version": "3.10.12"
  },
  "orig_nbformat": 4
 },
 "nbformat": 4,
 "nbformat_minor": 2
}
