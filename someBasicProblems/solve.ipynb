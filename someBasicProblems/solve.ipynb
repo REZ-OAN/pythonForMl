{
 "cells": [
  {
   "cell_type": "markdown",
   "metadata": {},
   "source": [
    "**Conditional Logics**"
   ]
  },
  {
   "cell_type": "markdown",
   "metadata": {},
   "source": [
    "**01.Checking input number is even or odd**"
   ]
  },
  {
   "cell_type": "code",
   "execution_count": 1,
   "metadata": {},
   "outputs": [
    {
     "name": "stdout",
     "output_type": "stream",
     "text": [
      "Even\n"
     ]
    }
   ],
   "source": [
    "x = int(input())\n",
    "if x%2 == 0 :\n",
    "    print('Even')\n",
    "else :\n",
    "    print('Odd')"
   ]
  },
  {
   "cell_type": "markdown",
   "metadata": {},
   "source": [
    "**02.Check if the input string 1st character is any vowel**"
   ]
  },
  {
   "cell_type": "code",
   "execution_count": 2,
   "metadata": {},
   "outputs": [
    {
     "name": "stdout",
     "output_type": "stream",
     "text": [
      "YES\n"
     ]
    }
   ],
   "source": [
    "s = input()\n",
    "vowels = ['A','E','I','O','U','a','e','i','o','u']\n",
    "if s[0] in vowels :\n",
    "    print('YES')\n",
    "else :\n",
    "    print('NO')"
   ]
  },
  {
   "cell_type": "markdown",
   "metadata": {},
   "source": [
    "**03.Write a Python program which accepts the radius of a circle from the user\n",
    "and compute the area.**"
   ]
  },
  {
   "cell_type": "code",
   "execution_count": 4,
   "metadata": {},
   "outputs": [
    {
     "name": "stdout",
     "output_type": "stream",
     "text": [
      "314.1592653589793\n"
     ]
    }
   ],
   "source": [
    "import numpy as np\n",
    "r = float(input())\n",
    "area = np.pi * (r**2)\n",
    "print(area)"
   ]
  },
  {
   "cell_type": "markdown",
   "metadata": {},
   "source": [
    "**04.Write a Python program to convert temperatures to and from celsius,\n",
    "fahrenheit.**"
   ]
  },
  {
   "cell_type": "code",
   "execution_count": 5,
   "metadata": {},
   "outputs": [
    {
     "name": "stdout",
     "output_type": "stream",
     "text": [
      "97.88000000000001\n"
     ]
    }
   ],
   "source": [
    "c = float(input())\n",
    "f = (9.00*c/5.00) + 32.00\n",
    "print(f)"
   ]
  },
  {
   "cell_type": "markdown",
   "metadata": {},
   "source": [
    "**5. Take input of age of 3 people by user and determine oldest and youngest\n",
    "among them.**"
   ]
  },
  {
   "cell_type": "code",
   "execution_count": 26,
   "metadata": {},
   "outputs": [
    {
     "name": "stdout",
     "output_type": "stream",
     "text": [
      "youngest : 11 11 oldest : 20\n"
     ]
    }
   ],
   "source": [
    "x,y,z = [int(i) for i in input().split()]\n",
    "if x>=z :\n",
    "    x,z= z,x\n",
    "if y<=x :\n",
    "    y,x = x,y\n",
    "if y>=z :\n",
    "    y,z = z,y\n",
    "if x == z :\n",
    "  print('youngest : {} {} {} oldest : {} {} {}'.format(x,y,z,x,y,z))\n",
    "elif x!=y and y==z :\n",
    "  print('youngest : {} oldest :  {} {}'.format(x,y,z))\n",
    "elif x==y and y!=z :\n",
    "  print('youngest : {} {} oldest : {}'.format(x,y,z))\n",
    "elif x!=y and y!=z :\n",
    "  print('youngest : {} oldest : {}'.format(x,z))"
   ]
  },
  {
   "cell_type": "markdown",
   "metadata": {},
   "source": [
    "6. A school has following rules for grading system :\n",
    "\n",
    "| Marks Range | Grade |\n",
    "|-------------|-------|\n",
    "| Below 25    | F     |\n",
    "| 25 to 45    | E     |\n",
    "| 45 to 50    | D     |\n",
    "| 50 to 60    | C     |\n",
    "| 60 to 80    | B     |\n",
    "| Above 80    | A     |\n",
    "\n",
    "Now, ask the user to enter marks and print the corresponding grade.\n"
   ]
  },
  {
   "cell_type": "code",
   "execution_count": 33,
   "metadata": {},
   "outputs": [
    {
     "name": "stdout",
     "output_type": "stream",
     "text": [
      "Grade is A\n"
     ]
    }
   ],
   "source": [
    "mark = float(input())\n",
    "if mark < 25 :\n",
    "    print('Grade is F')\n",
    "elif 25 <= mark < 45 :\n",
    "    print('Grade is E')\n",
    "elif 45 <= mark < 50 :\n",
    "    print('Grade is D')\n",
    "elif 50 <= mark < 60 :\n",
    "    print('Grade is C')\n",
    "elif 60 <= mark < 80 :\n",
    "    print('Grade is B')\n",
    "else :\n",
    "    print('Grade is A')"
   ]
  },
  {
   "cell_type": "markdown",
   "metadata": {},
   "source": [
    "7. Write a program to trace your subject mark. Your program should fulfill\n",
    "the following conditions:\n",
    "\n",
    "- If the subject mark is below 0 and above 100, print “error: mark should be between\n",
    "  0 and 100 only”\n",
    "\n",
    "- Students will fail in the subject if their mark is below 50.\n",
    "  - Display: \"Student [Name] from Class [Class], Section [Section] has scored [Mark] which is below 50. Result: Fail\"\n",
    "\n",
    "- Students will pass in the subject if they score 50 and above.\n",
    "  - Display: \"Student [Name] from Class [Class], Section [Section] has scored [Mark]. Result: Pass\"\n",
    "\n",
    "- If subject mark is between 50 and 60, grade student as good.\n",
    "  - Display: \"Student [Name] from Class [Class], Section [Section] has scored [Mark]. Grade: Good\"\n",
    "\n",
    "- If subject mark is between 60 and 80, grade student as very good.\n",
    "  - Display: \"Student [Name] from Class [Class], Section [Section] has scored [Mark]. Grade: Very Good\"\n",
    "\n",
    "- If subject mark is between 80 and 100, grade student as outstanding.\n",
    "  - Display: \"Student [Name] from Class [Class], Section [Section] has scored [Mark]. Grade: Outstanding\"\n",
    "\n",
    "Make sure to print their mark in every statement to prove that the condition is\n",
    "fulfilled. Moreover, name, class, and section should be also displayed along with\n",
    "the marks and their grade.\n"
   ]
  },
  {
   "cell_type": "code",
   "execution_count": 38,
   "metadata": {},
   "outputs": [
    {
     "name": "stdout",
     "output_type": "stream",
     "text": [
      "----Tracing Your Physics mark------\n",
      "Name : Abir\n",
      "Class : 10\n",
      "Section : B\n",
      "Physics mark is 92.0\n",
      "Congratulations! Pass in Physics\n",
      "Remark : Outstanding in Physics\n"
     ]
    }
   ],
   "source": [
    "name = input('Enter Name : ')\n",
    "class_ = input('Enter Class : ')\n",
    "section = input('Enter Section : ')\n",
    "subject_name = input('Enter the Subject Name : ')\n",
    "while True :\n",
    "    mark = float(input('Mark Scored in that subject : '))\n",
    "    if 0 <= mark <= 100 :\n",
    "        print('----Tracing Your {} mark------'.format(subject_name))\n",
    "        print('Name : {}'.format(name))\n",
    "        print('Class : {}'.format(class_))\n",
    "        print('Section : {}'.format(section))\n",
    "        print('{} mark is {}'.format(subject_name,mark))\n",
    "        if mark < 50 :\n",
    "            print(\"We are sorry to inform you that you're failed in {}\".format(subject_name))\n",
    "        elif mark >= 50 :\n",
    "            print('Congratulations! Pass in {}'.format(subject_name))\n",
    "            if  50 <= mark < 60 :\n",
    "                print('Remark : Good in {}'.format(subject_name))\n",
    "            elif 60 <= mark < 80 :\n",
    "                print('Remark : Very Good in {}'.format(subject_name))\n",
    "            else :\n",
    "                print('Remark : Outstanding in {}'.format(subject_name))\n",
    "        break\n",
    "    else :\n",
    "        print('error: mark should be between 0 and 100 only')\n",
    "        continue\n",
    "\n"
   ]
  },
  {
   "cell_type": "markdown",
   "metadata": {},
   "source": [
    "**LOOPS**"
   ]
  },
  {
   "cell_type": "markdown",
   "metadata": {},
   "source": [
    "1. Using a nested for loop generate the following pattern:\n",
    "\n",
    "Tested With n = 5"
   ]
  },
  {
   "cell_type": "code",
   "execution_count": 42,
   "metadata": {},
   "outputs": [
    {
     "name": "stdout",
     "output_type": "stream",
     "text": [
      "* \n",
      "* * \n",
      "* * * \n",
      "* * * * \n",
      "* * * * * \n",
      "* * * * \n",
      "* * * \n",
      "* * \n",
      "* \n"
     ]
    }
   ],
   "source": [
    "n = int(input())\n",
    "for i in range(1,n+1) :\n",
    "    for j in range(i):\n",
    "        print(\"*\",end=' ')\n",
    "    print()\n",
    "for i in range(n-1,0,-1):\n",
    "    for j in range(i):\n",
    "        print(\"*\",end=' ')\n",
    "    print()    "
   ]
  },
  {
   "cell_type": "markdown",
   "metadata": {},
   "source": [
    "**2. Write a Python program to get the Fibonacci series between 0 to 50.**"
   ]
  },
  {
   "cell_type": "code",
   "execution_count": 46,
   "metadata": {},
   "outputs": [
    {
     "name": "stdout",
     "output_type": "stream",
     "text": [
      "0 1 1 2 3 5 8 13 21 34 "
     ]
    }
   ],
   "source": [
    "fibo = [0,1]\n",
    "i = int(2)\n",
    "while True :\n",
    "    if fibo[i-1]+fibo[i-2] <= 50 :\n",
    "        fibo.append(fibo[i-1]+fibo[i-2])\n",
    "    else :\n",
    "        break\n",
    "    \n",
    "    i = i+1\n",
    "for x in fibo :\n",
    "    print(x,end=\" \")"
   ]
  },
  {
   "cell_type": "markdown",
   "metadata": {},
   "source": [
    "**3. Write a Python program to check whether each alphabet of the input string\n",
    "is a vowel or consonant.**\n",
    "\n",
    "Tested With \"abir\""
   ]
  },
  {
   "cell_type": "code",
   "execution_count": 48,
   "metadata": {},
   "outputs": [
    {
     "name": "stdout",
     "output_type": "stream",
     "text": [
      "a is vowel\n",
      "b is consonant\n",
      "i is vowel\n",
      "r is consonant\n"
     ]
    }
   ],
   "source": [
    "s = input()\n",
    "vowels = ['A','E','I','O','U','a','e','i','o','u']\n",
    "for ch in s :\n",
    "    if ch in vowels :\n",
    "        print(\"{} is vowel\".format(ch))\n",
    "    else :\n",
    "        print(\"{} is consonant\".format(ch))"
   ]
  },
  {
   "cell_type": "markdown",
   "metadata": {},
   "source": [
    "**4. Write a Python program to create the multiplication table (from 1 to 10) of\n",
    "a number. Go to the editor**"
   ]
  },
  {
   "cell_type": "code",
   "execution_count": 49,
   "metadata": {},
   "outputs": [
    {
     "name": "stdout",
     "output_type": "stream",
     "text": [
      "Expected Output : \n",
      "6 x 1 = 6\n",
      "6 x 2 = 12\n",
      "6 x 3 = 18\n",
      "6 x 4 = 24\n",
      "6 x 5 = 30\n",
      "6 x 6 = 36\n",
      "6 x 7 = 42\n",
      "6 x 8 = 48\n",
      "6 x 9 = 54\n",
      "6 x 10 = 60\n"
     ]
    }
   ],
   "source": [
    "n = int(input('Input A Number : '))\n",
    "print('Expected Output : ')\n",
    "for i in range(1,11):\n",
    "    prod = int(i*n)\n",
    "    print('{} x {} = {}'.format(n,i,prod))\n"
   ]
  },
  {
   "cell_type": "markdown",
   "metadata": {},
   "source": [
    "**5. Write a Python program to construct the following pattern, using a\n",
    "nested loop number.**"
   ]
  },
  {
   "cell_type": "code",
   "execution_count": 51,
   "metadata": {},
   "outputs": [
    {
     "name": "stdout",
     "output_type": "stream",
     "text": [
      "1\n",
      "22\n",
      "333\n",
      "4444\n",
      "55555\n",
      "666666\n",
      "7777777\n",
      "88888888\n",
      "999999999\n",
      "88888888\n",
      "7777777\n",
      "666666\n",
      "55555\n",
      "4444\n",
      "333\n",
      "22\n",
      "1\n"
     ]
    }
   ],
   "source": [
    "n = int(input())\n",
    "for i in range(1,n+1) :\n",
    "    for j in range(i):\n",
    "        print(i,end='')\n",
    "    print()\n",
    "for i in range(n-1,0,-1):\n",
    "    for j in range(i):\n",
    "        print(i,end='')\n",
    "    print()  "
   ]
  },
  {
   "cell_type": "markdown",
   "metadata": {},
   "source": [
    "**6. Display numbers from -10 to -1 using for loop**"
   ]
  },
  {
   "cell_type": "code",
   "execution_count": 52,
   "metadata": {},
   "outputs": [
    {
     "name": "stdout",
     "output_type": "stream",
     "text": [
      "-10\n",
      "-9\n",
      "-8\n",
      "-7\n",
      "-6\n",
      "-5\n",
      "-4\n",
      "-3\n",
      "-2\n",
      "-1\n"
     ]
    }
   ],
   "source": [
    "for i in range(-10,0):\n",
    "    print(i)"
   ]
  },
  {
   "cell_type": "markdown",
   "metadata": {},
   "source": [
    "**7. Reverse a given integer number and find square root.**\n",
    "\n",
    "Test with\n",
    "4201 and 94"
   ]
  },
  {
   "cell_type": "code",
   "execution_count": 54,
   "metadata": {},
   "outputs": [
    {
     "name": "stdout",
     "output_type": "stream",
     "text": [
      "32.0\n"
     ]
    }
   ],
   "source": [
    "# without using loop\n",
    "num = input()\n",
    "num = num[::-1]\n",
    "num = int(num)\n",
    "num = num**.5\n",
    "print(num)"
   ]
  },
  {
   "cell_type": "code",
   "execution_count": 56,
   "metadata": {},
   "outputs": [
    {
     "name": "stdout",
     "output_type": "stream",
     "text": [
      "7.0\n"
     ]
    }
   ],
   "source": [
    "# with using loop\n",
    "num = int(input())\n",
    "sum = int(0)\n",
    "while num :\n",
    "    rem = num%10\n",
    "    sum = sum*10 + rem\n",
    "    num = num//10 # integer divison\n",
    "sqRoot = sum**.5\n",
    "print(sqRoot)"
   ]
  },
  {
   "cell_type": "markdown",
   "metadata": {},
   "source": [
    "**LIST**"
   ]
  },
  {
   "cell_type": "markdown",
   "metadata": {},
   "source": [
    "**1. Reverse and concate two list.**"
   ]
  },
  {
   "cell_type": "code",
   "execution_count": 61,
   "metadata": {},
   "outputs": [
    {
     "name": "stdout",
     "output_type": "stream",
     "text": [
      "Concate of list1 and list2  ['Apple', 'Banana', 'Orange', 'Mango', 'Hilisha', 'Salmon', 'Cat Fish', 'Shrimp']\n",
      "Reverse of concatedList  ['Shrimp', 'Cat Fish', 'Salmon', 'Hilisha', 'Mango', 'Orange', 'Banana', 'Apple']\n"
     ]
    }
   ],
   "source": [
    "list1 = ['Apple','Banana','Orange','Mango']\n",
    "list2 = ['Hilisha','Salmon','Cat Fish','Shrimp']\n",
    "concatedList = list1 + list2\n",
    "reversedList = concatedList[::-1]\n",
    "print(\"Concate of list1 and list2 \",concatedList)\n",
    "print(\"Reverse of concatedList \",reversedList)"
   ]
  },
  {
   "cell_type": "markdown",
   "metadata": {},
   "source": [
    "**2. Remove duplicate items from the list.**"
   ]
  },
  {
   "cell_type": "code",
   "execution_count": 62,
   "metadata": {},
   "outputs": [
    {
     "name": "stdout",
     "output_type": "stream",
     "text": [
      "List after Removing the duplicates :  [1, 10, 100, 20, 39, 22, 329]\n"
     ]
    }
   ],
   "source": [
    "listWithDuplicates = [1,10, 100, 20, 1, 20, 10, 39, 22, 329,100, 39, 20, 1]\n",
    "listWithUnique = []\n",
    "for i in listWithDuplicates :\n",
    "    if i not in listWithUnique:\n",
    "        listWithUnique.append(i)\n",
    "print(\"List after Removing the duplicates : \",listWithUnique)"
   ]
  },
  {
   "cell_type": "markdown",
   "metadata": {},
   "source": [
    "**3. write a funcion to swap elements of two positions in a list.**"
   ]
  },
  {
   "cell_type": "code",
   "execution_count": 67,
   "metadata": {},
   "outputs": [
    {
     "name": "stdout",
     "output_type": "stream",
     "text": [
      "[1, 5, 4, 7, 3]\n"
     ]
    }
   ],
   "source": [
    "def swap(i,j,a) :\n",
    "    if i>=0 and j<len(a) :\n",
    "        a[i],a[j] = a[j],a[i]\n",
    "arr = [1,3,4,7,5]\n",
    "swap(1,4,arr)\n",
    "# the change reflects in the main array because \n",
    "# arrays in python are passed by reference\n",
    "print(arr)"
   ]
  },
  {
   "cell_type": "markdown",
   "metadata": {},
   "source": [
    "**4. Write a function to find sum and average of a list.**"
   ]
  },
  {
   "cell_type": "code",
   "execution_count": 68,
   "metadata": {},
   "outputs": [
    {
     "name": "stdout",
     "output_type": "stream",
     "text": [
      "Sum = 100 , Average = 20.0\n"
     ]
    }
   ],
   "source": [
    "def info(arr):\n",
    "    sum = 0\n",
    "    for i in arr :\n",
    "        sum = sum + i\n",
    "    return sum, sum/len(arr)\n",
    "list1 = [10,20, 10, 20,40]\n",
    "sum,avg = info(list1)\n",
    "print(\"Sum = {} , Average = {}\".format(sum,avg))"
   ]
  },
  {
   "cell_type": "markdown",
   "metadata": {},
   "source": [
    "**5. Write a Python function that takes two lists and returns True if they\n",
    "have at least one common member.**"
   ]
  },
  {
   "cell_type": "code",
   "execution_count": 69,
   "metadata": {},
   "outputs": [
    {
     "name": "stdout",
     "output_type": "stream",
     "text": [
      "arr1 and arr2 :  True\n",
      "arr1 and arr3 :  False\n"
     ]
    }
   ],
   "source": [
    "def atLeastOneCommon(list1, list2):\n",
    "    n1 = len(list1)\n",
    "    n2 = len(list2)\n",
    "    if n1>n2:\n",
    "        for i in list2 :\n",
    "            if i in list1:\n",
    "                return True\n",
    "        return False\n",
    "    else :\n",
    "        for i in list1 :\n",
    "            if i in list2:\n",
    "                return True\n",
    "        return False\n",
    "arr1 = [1,2,3,4]\n",
    "arr2 = [3,5,7,9]\n",
    "arr3 = [5,7,9,11]\n",
    "print('arr1 and arr2 : ',atLeastOneCommon(arr1,arr2))\n",
    "print('arr1 and arr3 : ',atLeastOneCommon(arr1,arr3))"
   ]
  },
  {
   "cell_type": "markdown",
   "metadata": {},
   "source": [
    "**6. Write a python program to check whether two lists are circularly\n",
    "identical.**\n",
    "\n",
    "checked for  \n",
    "test -1 \n",
    "\n",
    "1 2 3 4 5 \n",
    "\n",
    "4 5 1 2 3\n",
    "\n",
    "test -2\n",
    "\n",
    "10 10 0 0 10 \n",
    "\n",
    "0 0 10 10 10\n",
    "\n",
    "test -3\n",
    "\n",
    "5 4 3 2 1 \n",
    "\n",
    "1 5 4 3 2"
   ]
  },
  {
   "cell_type": "code",
   "execution_count": 76,
   "metadata": {},
   "outputs": [
    {
     "name": "stdout",
     "output_type": "stream",
     "text": [
      "Two Lists are not circularly identical\n"
     ]
    }
   ],
   "source": [
    "# to identify this we first take the list1 twice by concatenation\n",
    "# then i will check if the list2 exists as a sub array in the concatenated list\n",
    "def isCircularlyIdentical(arr1,arr2) :\n",
    "    n1 = len(arr2)\n",
    "    n2 = len(arr1)\n",
    "    if n1 != n2 :\n",
    "        return False\n",
    "    arr  = arr1 + arr1\n",
    "    n = len(arr)\n",
    "    for i in range(0,n) :\n",
    "        if arr[i:i+n2] == arr2:\n",
    "            return True\n",
    "    return False\n",
    "list1 = [int(x) for x in input().split()]\n",
    "list2 = [int(x) for x in input().split()]\n",
    "statement =  'Two Lists are circularly identical' if isCircularlyIdentical(list1,list2) else 'Two Lists are not circularly identical'\n",
    "print(statement)\n"
   ]
  },
  {
   "cell_type": "markdown",
   "metadata": {},
   "source": [
    "**7. Write a Python program to find the second smallest and largest number in a list .**\n",
    "\n",
    "Tested With\n",
    "[1, 2, 3, 4, 1, 2, 3, 4, 1, 2, 3, 4, 1, 2, 3, 4]\n"
   ]
  },
  {
   "cell_type": "code",
   "execution_count": 79,
   "metadata": {},
   "outputs": [
    {
     "name": "stdout",
     "output_type": "stream",
     "text": [
      "Second Minimum Value 2 \n",
      "Second Maximum Value 3\n"
     ]
    }
   ],
   "source": [
    "arr = [int(x) for x in input().split()]\n",
    "sorted(arr)\n",
    "second_minimum = int(0)\n",
    "second_maximum = int(0)\n",
    "i = int(0)\n",
    "while arr[0] == arr[i] :\n",
    "    i = i + 1\n",
    "second_minimum = arr[i]\n",
    "i = int(len(arr)-1)\n",
    "while arr[-1] == arr[i] :\n",
    "    i = i - 1\n",
    "second_maximum = arr[i]\n",
    "print(\"Second Minimum Value {} \\nSecond Maximum Value {}\".format(second_minimum,second_maximum))"
   ]
  },
  {
   "cell_type": "markdown",
   "metadata": {},
   "source": [
    "**8. Write a Python program to compute the difference between two lists.**"
   ]
  },
  {
   "cell_type": "code",
   "execution_count": 81,
   "metadata": {},
   "outputs": [
    {
     "name": "stdout",
     "output_type": "stream",
     "text": [
      "color1 - color2 :  {'orange', 'white', 'red'}\n",
      "color2 - color1 :  {'black', 'yellow'}\n"
     ]
    }
   ],
   "source": [
    "color1 = [\"red\",\"orange\",\"green\",\"blue\",\"white\"]\n",
    "color2 = [\"black\",\"yellow\",\"green\",\"blue\"]\n",
    "## convert them into set\n",
    "color1 = set(color1)\n",
    "color2 = set(color2)\n",
    "print(\"color1 - color2 : \",color1-color2)\n",
    "print(\"color2 - color1 : \",color2-color1)"
   ]
  },
  {
   "cell_type": "code",
   "execution_count": null,
   "metadata": {},
   "outputs": [],
   "source": []
  }
 ],
 "metadata": {
  "kernelspec": {
   "display_name": "Python 3",
   "language": "python",
   "name": "python3"
  },
  "language_info": {
   "codemirror_mode": {
    "name": "ipython",
    "version": 3
   },
   "file_extension": ".py",
   "mimetype": "text/x-python",
   "name": "python",
   "nbconvert_exporter": "python",
   "pygments_lexer": "ipython3",
   "version": "3.10.12"
  }
 },
 "nbformat": 4,
 "nbformat_minor": 2
}
